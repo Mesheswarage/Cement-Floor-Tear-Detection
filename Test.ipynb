{
 "cells": [
  {
   "cell_type": "code",
   "execution_count": 2,
   "metadata": {},
   "outputs": [],
   "source": [
    "import tensorflow as tf\n",
    "\n",
    "from tensorflow.keras import datasets, models, optimizers\n",
    "from tensorflow.keras.callbacks import ModelCheckpoint\n",
    "from tensorflow.keras.layers import Conv2D, Dense, Flatten, MaxPooling2D\n",
    "\n",
    "from sklearn.model_selection import train_test_split\n",
    "from tensorflow.keras.preprocessing.image import ImageDataGenerator\n",
    "\n",
    "import matplotlib.pyplot as plt\n",
    "import numpy as np\n",
    "import os\n",
    "import cv2"
   ]
  },
  {
   "cell_type": "code",
   "execution_count": 3,
   "metadata": {},
   "outputs": [],
   "source": [
    "d = './concrete'\n",
    "m =  \"FolderML\" # add a string here\n",
    "img_size = 28 # add an int here\n",
    "nb_epochs =  2 # add an int here\n",
    "validation_split = 0.2 #add a float here (train split will be 1 - validation split)\n",
    "\n",
    "train_datagen = ImageDataGenerator(rescale=1./255,\n",
    "                                   validation_split=validation_split)  # set validation split"
   ]
  },
  {
   "cell_type": "code",
   "execution_count": 4,
   "metadata": {},
   "outputs": [
    {
     "name": "stdout",
     "output_type": "stream",
     "text": [
      "\u001b[1;31mSignature:\u001b[0m\n",
      "\u001b[0mtrain_datagen\u001b[0m\u001b[1;33m.\u001b[0m\u001b[0mflow_from_directory\u001b[0m\u001b[1;33m(\u001b[0m\u001b[1;33m\n",
      "\u001b[0m    \u001b[0mdirectory\u001b[0m\u001b[1;33m,\u001b[0m\u001b[1;33m\n",
      "\u001b[0m    \u001b[0mtarget_size\u001b[0m\u001b[1;33m=\u001b[0m\u001b[1;33m(\u001b[0m\u001b[1;36m256\u001b[0m\u001b[1;33m,\u001b[0m \u001b[1;36m256\u001b[0m\u001b[1;33m)\u001b[0m\u001b[1;33m,\u001b[0m\u001b[1;33m\n",
      "\u001b[0m    \u001b[0mcolor_mode\u001b[0m\u001b[1;33m=\u001b[0m\u001b[1;34m'rgb'\u001b[0m\u001b[1;33m,\u001b[0m\u001b[1;33m\n",
      "\u001b[0m    \u001b[0mclasses\u001b[0m\u001b[1;33m=\u001b[0m\u001b[1;32mNone\u001b[0m\u001b[1;33m,\u001b[0m\u001b[1;33m\n",
      "\u001b[0m    \u001b[0mclass_mode\u001b[0m\u001b[1;33m=\u001b[0m\u001b[1;34m'categorical'\u001b[0m\u001b[1;33m,\u001b[0m\u001b[1;33m\n",
      "\u001b[0m    \u001b[0mbatch_size\u001b[0m\u001b[1;33m=\u001b[0m\u001b[1;36m32\u001b[0m\u001b[1;33m,\u001b[0m\u001b[1;33m\n",
      "\u001b[0m    \u001b[0mshuffle\u001b[0m\u001b[1;33m=\u001b[0m\u001b[1;32mTrue\u001b[0m\u001b[1;33m,\u001b[0m\u001b[1;33m\n",
      "\u001b[0m    \u001b[0mseed\u001b[0m\u001b[1;33m=\u001b[0m\u001b[1;32mNone\u001b[0m\u001b[1;33m,\u001b[0m\u001b[1;33m\n",
      "\u001b[0m    \u001b[0msave_to_dir\u001b[0m\u001b[1;33m=\u001b[0m\u001b[1;32mNone\u001b[0m\u001b[1;33m,\u001b[0m\u001b[1;33m\n",
      "\u001b[0m    \u001b[0msave_prefix\u001b[0m\u001b[1;33m=\u001b[0m\u001b[1;34m''\u001b[0m\u001b[1;33m,\u001b[0m\u001b[1;33m\n",
      "\u001b[0m    \u001b[0msave_format\u001b[0m\u001b[1;33m=\u001b[0m\u001b[1;34m'png'\u001b[0m\u001b[1;33m,\u001b[0m\u001b[1;33m\n",
      "\u001b[0m    \u001b[0mfollow_links\u001b[0m\u001b[1;33m=\u001b[0m\u001b[1;32mFalse\u001b[0m\u001b[1;33m,\u001b[0m\u001b[1;33m\n",
      "\u001b[0m    \u001b[0msubset\u001b[0m\u001b[1;33m=\u001b[0m\u001b[1;32mNone\u001b[0m\u001b[1;33m,\u001b[0m\u001b[1;33m\n",
      "\u001b[0m    \u001b[0minterpolation\u001b[0m\u001b[1;33m=\u001b[0m\u001b[1;34m'nearest'\u001b[0m\u001b[1;33m,\u001b[0m\u001b[1;33m\n",
      "\u001b[0m    \u001b[0mkeep_aspect_ratio\u001b[0m\u001b[1;33m=\u001b[0m\u001b[1;32mFalse\u001b[0m\u001b[1;33m,\u001b[0m\u001b[1;33m\n",
      "\u001b[0m\u001b[1;33m)\u001b[0m\u001b[1;33m\u001b[0m\u001b[1;33m\u001b[0m\u001b[0m\n",
      "\u001b[1;31mSource:\u001b[0m   \n",
      "    \u001b[1;32mdef\u001b[0m \u001b[0mflow_from_directory\u001b[0m\u001b[1;33m(\u001b[0m\u001b[1;33m\n",
      "\u001b[0m        \u001b[0mself\u001b[0m\u001b[1;33m,\u001b[0m\u001b[1;33m\n",
      "\u001b[0m        \u001b[0mdirectory\u001b[0m\u001b[1;33m,\u001b[0m\u001b[1;33m\n",
      "\u001b[0m        \u001b[0mtarget_size\u001b[0m\u001b[1;33m=\u001b[0m\u001b[1;33m(\u001b[0m\u001b[1;36m256\u001b[0m\u001b[1;33m,\u001b[0m \u001b[1;36m256\u001b[0m\u001b[1;33m)\u001b[0m\u001b[1;33m,\u001b[0m\u001b[1;33m\n",
      "\u001b[0m        \u001b[0mcolor_mode\u001b[0m\u001b[1;33m=\u001b[0m\u001b[1;34m\"rgb\"\u001b[0m\u001b[1;33m,\u001b[0m\u001b[1;33m\n",
      "\u001b[0m        \u001b[0mclasses\u001b[0m\u001b[1;33m=\u001b[0m\u001b[1;32mNone\u001b[0m\u001b[1;33m,\u001b[0m\u001b[1;33m\n",
      "\u001b[0m        \u001b[0mclass_mode\u001b[0m\u001b[1;33m=\u001b[0m\u001b[1;34m\"categorical\"\u001b[0m\u001b[1;33m,\u001b[0m\u001b[1;33m\n",
      "\u001b[0m        \u001b[0mbatch_size\u001b[0m\u001b[1;33m=\u001b[0m\u001b[1;36m32\u001b[0m\u001b[1;33m,\u001b[0m\u001b[1;33m\n",
      "\u001b[0m        \u001b[0mshuffle\u001b[0m\u001b[1;33m=\u001b[0m\u001b[1;32mTrue\u001b[0m\u001b[1;33m,\u001b[0m\u001b[1;33m\n",
      "\u001b[0m        \u001b[0mseed\u001b[0m\u001b[1;33m=\u001b[0m\u001b[1;32mNone\u001b[0m\u001b[1;33m,\u001b[0m\u001b[1;33m\n",
      "\u001b[0m        \u001b[0msave_to_dir\u001b[0m\u001b[1;33m=\u001b[0m\u001b[1;32mNone\u001b[0m\u001b[1;33m,\u001b[0m\u001b[1;33m\n",
      "\u001b[0m        \u001b[0msave_prefix\u001b[0m\u001b[1;33m=\u001b[0m\u001b[1;34m\"\"\u001b[0m\u001b[1;33m,\u001b[0m\u001b[1;33m\n",
      "\u001b[0m        \u001b[0msave_format\u001b[0m\u001b[1;33m=\u001b[0m\u001b[1;34m\"png\"\u001b[0m\u001b[1;33m,\u001b[0m\u001b[1;33m\n",
      "\u001b[0m        \u001b[0mfollow_links\u001b[0m\u001b[1;33m=\u001b[0m\u001b[1;32mFalse\u001b[0m\u001b[1;33m,\u001b[0m\u001b[1;33m\n",
      "\u001b[0m        \u001b[0msubset\u001b[0m\u001b[1;33m=\u001b[0m\u001b[1;32mNone\u001b[0m\u001b[1;33m,\u001b[0m\u001b[1;33m\n",
      "\u001b[0m        \u001b[0minterpolation\u001b[0m\u001b[1;33m=\u001b[0m\u001b[1;34m\"nearest\"\u001b[0m\u001b[1;33m,\u001b[0m\u001b[1;33m\n",
      "\u001b[0m        \u001b[0mkeep_aspect_ratio\u001b[0m\u001b[1;33m=\u001b[0m\u001b[1;32mFalse\u001b[0m\u001b[1;33m,\u001b[0m\u001b[1;33m\n",
      "\u001b[0m    \u001b[1;33m)\u001b[0m\u001b[1;33m:\u001b[0m\u001b[1;33m\n",
      "\u001b[0m        \u001b[1;34m\"\"\"Takes the path to a directory & generates batches of augmented data.\n",
      "\n",
      "        Args:\n",
      "            directory: string, path to the target directory. It should contain\n",
      "              one subdirectory per class. Any PNG, JPG, BMP, PPM or TIF images\n",
      "              inside each of the subdirectories directory tree will be included\n",
      "              in the generator. See [this script](\n",
      "              https://gist.github.com/fchollet/0830affa1f7f19fd47b06d4cf89ed44d)\n",
      "              for more details.\n",
      "            target_size: Tuple of integers `(height, width)`, defaults to `(256,\n",
      "              256)`. The dimensions to which all images found will be resized.\n",
      "            color_mode: One of \"grayscale\", \"rgb\", \"rgba\". Default: \"rgb\".\n",
      "              Whether the images will be converted to have 1, 3, or 4 channels.\n",
      "            classes: Optional list of class subdirectories (e.g. `['dogs',\n",
      "              'cats']`). Default: None. If not provided, the list of classes\n",
      "              will be automatically inferred from the subdirectory\n",
      "              names/structure under `directory`, where each subdirectory will be\n",
      "              treated as a different class (and the order of the classes, which\n",
      "              will map to the label indices, will be alphanumeric). The\n",
      "              dictionary containing the mapping from class names to class\n",
      "              indices can be obtained via the attribute `class_indices`.\n",
      "            class_mode: One of \"categorical\", \"binary\", \"sparse\",\n",
      "                \"input\", or None. Default: \"categorical\".\n",
      "                Determines the type of label arrays that are returned:\n",
      "                - \"categorical\" will be 2D one-hot encoded labels,\n",
      "                - \"binary\" will be 1D binary labels,\n",
      "                    \"sparse\" will be 1D integer labels,\n",
      "                - \"input\" will be images identical\n",
      "                    to input images (mainly used to work with autoencoders).\n",
      "                - If None, no labels are returned\n",
      "                  (the generator will only yield batches of image data,\n",
      "                  which is useful to use with `model.predict_generator()`).\n",
      "                  Please note that in case of class_mode None,\n",
      "                  the data still needs to reside in a subdirectory\n",
      "                  of `directory` for it to work correctly.\n",
      "            batch_size: Size of the batches of data (default: 32).\n",
      "            shuffle: Whether to shuffle the data (default: True) If set to\n",
      "              False, sorts the data in alphanumeric order.\n",
      "            seed: Optional random seed for shuffling and transformations.\n",
      "            save_to_dir: None or str (default: None). This allows you to\n",
      "              optionally specify a directory to which to save the augmented\n",
      "              pictures being generated (useful for visualizing what you are\n",
      "              doing).\n",
      "            save_prefix: Str. Prefix to use for filenames of saved pictures\n",
      "              (only relevant if `save_to_dir` is set).\n",
      "            save_format: one of \"png\", \"jpeg\", \"bmp\", \"pdf\", \"ppm\", \"gif\",\n",
      "              \"tif\", \"jpg\" (only relevant if `save_to_dir` is set). Default:\n",
      "              \"png\".\n",
      "            follow_links: Whether to follow symlinks inside\n",
      "                class subdirectories (default: False).\n",
      "            subset: Subset of data (`\"training\"` or `\"validation\"`) if\n",
      "              `validation_split` is set in `ImageDataGenerator`.\n",
      "            interpolation: Interpolation method used to resample the image if\n",
      "              the target size is different from that of the loaded image.\n",
      "              Supported methods are `\"nearest\"`, `\"bilinear\"`, and `\"bicubic\"`.\n",
      "              If PIL version 1.1.3 or newer is installed, `\"lanczos\"` is also\n",
      "              supported. If PIL version 3.4.0 or newer is installed, `\"box\"` and\n",
      "              `\"hamming\"` are also supported. By default, `\"nearest\"` is used.\n",
      "            keep_aspect_ratio: Boolean, whether to resize images to a target\n",
      "              size without aspect ratio distortion. The image is cropped in\n",
      "              the center with target aspect ratio before resizing.\n",
      "\n",
      "        Returns:\n",
      "            A `DirectoryIterator` yielding tuples of `(x, y)`\n",
      "                where `x` is a numpy array containing a batch\n",
      "                of images with shape `(batch_size, *target_size, channels)`\n",
      "                and `y` is a numpy array of corresponding labels.\n",
      "        \"\"\"\u001b[0m\u001b[1;33m\n",
      "\u001b[0m        \u001b[1;32mreturn\u001b[0m \u001b[0mDirectoryIterator\u001b[0m\u001b[1;33m(\u001b[0m\u001b[1;33m\n",
      "\u001b[0m            \u001b[0mdirectory\u001b[0m\u001b[1;33m,\u001b[0m\u001b[1;33m\n",
      "\u001b[0m            \u001b[0mself\u001b[0m\u001b[1;33m,\u001b[0m\u001b[1;33m\n",
      "\u001b[0m            \u001b[0mtarget_size\u001b[0m\u001b[1;33m=\u001b[0m\u001b[0mtarget_size\u001b[0m\u001b[1;33m,\u001b[0m\u001b[1;33m\n",
      "\u001b[0m            \u001b[0mcolor_mode\u001b[0m\u001b[1;33m=\u001b[0m\u001b[0mcolor_mode\u001b[0m\u001b[1;33m,\u001b[0m\u001b[1;33m\n",
      "\u001b[0m            \u001b[0mkeep_aspect_ratio\u001b[0m\u001b[1;33m=\u001b[0m\u001b[0mkeep_aspect_ratio\u001b[0m\u001b[1;33m,\u001b[0m\u001b[1;33m\n",
      "\u001b[0m            \u001b[0mclasses\u001b[0m\u001b[1;33m=\u001b[0m\u001b[0mclasses\u001b[0m\u001b[1;33m,\u001b[0m\u001b[1;33m\n",
      "\u001b[0m            \u001b[0mclass_mode\u001b[0m\u001b[1;33m=\u001b[0m\u001b[0mclass_mode\u001b[0m\u001b[1;33m,\u001b[0m\u001b[1;33m\n",
      "\u001b[0m            \u001b[0mdata_format\u001b[0m\u001b[1;33m=\u001b[0m\u001b[0mself\u001b[0m\u001b[1;33m.\u001b[0m\u001b[0mdata_format\u001b[0m\u001b[1;33m,\u001b[0m\u001b[1;33m\n",
      "\u001b[0m            \u001b[0mbatch_size\u001b[0m\u001b[1;33m=\u001b[0m\u001b[0mbatch_size\u001b[0m\u001b[1;33m,\u001b[0m\u001b[1;33m\n",
      "\u001b[0m            \u001b[0mshuffle\u001b[0m\u001b[1;33m=\u001b[0m\u001b[0mshuffle\u001b[0m\u001b[1;33m,\u001b[0m\u001b[1;33m\n",
      "\u001b[0m            \u001b[0mseed\u001b[0m\u001b[1;33m=\u001b[0m\u001b[0mseed\u001b[0m\u001b[1;33m,\u001b[0m\u001b[1;33m\n",
      "\u001b[0m            \u001b[0msave_to_dir\u001b[0m\u001b[1;33m=\u001b[0m\u001b[0msave_to_dir\u001b[0m\u001b[1;33m,\u001b[0m\u001b[1;33m\n",
      "\u001b[0m            \u001b[0msave_prefix\u001b[0m\u001b[1;33m=\u001b[0m\u001b[0msave_prefix\u001b[0m\u001b[1;33m,\u001b[0m\u001b[1;33m\n",
      "\u001b[0m            \u001b[0msave_format\u001b[0m\u001b[1;33m=\u001b[0m\u001b[0msave_format\u001b[0m\u001b[1;33m,\u001b[0m\u001b[1;33m\n",
      "\u001b[0m            \u001b[0mfollow_links\u001b[0m\u001b[1;33m=\u001b[0m\u001b[0mfollow_links\u001b[0m\u001b[1;33m,\u001b[0m\u001b[1;33m\n",
      "\u001b[0m            \u001b[0msubset\u001b[0m\u001b[1;33m=\u001b[0m\u001b[0msubset\u001b[0m\u001b[1;33m,\u001b[0m\u001b[1;33m\n",
      "\u001b[0m            \u001b[0minterpolation\u001b[0m\u001b[1;33m=\u001b[0m\u001b[0minterpolation\u001b[0m\u001b[1;33m,\u001b[0m\u001b[1;33m\n",
      "\u001b[0m            \u001b[0mdtype\u001b[0m\u001b[1;33m=\u001b[0m\u001b[0mself\u001b[0m\u001b[1;33m.\u001b[0m\u001b[0mdtype\u001b[0m\u001b[1;33m,\u001b[0m\u001b[1;33m\n",
      "\u001b[0m        \u001b[1;33m)\u001b[0m\u001b[1;33m\u001b[0m\u001b[1;33m\u001b[0m\u001b[0m\n",
      "\u001b[1;31mFile:\u001b[0m      c:\\users\\ees\\miniconda3\\envs\\ml_2023\\lib\\site-packages\\keras\\src\\preprocessing\\image.py\n",
      "\u001b[1;31mType:\u001b[0m      method"
     ]
    }
   ],
   "source": [
    "train_generator = train_datagen.flow_from_directory??"
   ]
  },
  {
   "cell_type": "code",
   "execution_count": 5,
   "metadata": {},
   "outputs": [
    {
     "name": "stdout",
     "output_type": "stream",
     "text": [
      "Found 32000 images belonging to 2 classes.\n",
      "Found 8000 images belonging to 2 classes.\n"
     ]
    }
   ],
   "source": [
    "train_generator = train_datagen.flow_from_directory(\n",
    "    d,\n",
    "    target_size=(img_size, img_size),\n",
    "    class_mode='binary', # fill with suitable - categorical / binary\n",
    "    subset='training')  # set as training data\n",
    "\n",
    "validation_generator = train_datagen.flow_from_directory(\n",
    "    d,\n",
    "    target_size=(img_size, img_size),\n",
    "    class_mode= 'binary', # fill with suitable - categorical / binary\n",
    "    subset='validation')  # set as validation data"
   ]
  },
  {
   "cell_type": "code",
   "execution_count": 6,
   "metadata": {},
   "outputs": [
    {
     "name": "stdout",
     "output_type": "stream",
     "text": [
      "Model: \"sequential\"\n",
      "_________________________________________________________________\n",
      " Layer (type)                Output Shape              Param #   \n",
      "=================================================================\n",
      " conv2d (Conv2D)             (None, 26, 26, 16)        448       \n",
      "                                                                 \n",
      " max_pooling2d (MaxPooling2  (None, 13, 13, 16)        0         \n",
      " D)                                                              \n",
      "                                                                 \n",
      " flatten (Flatten)           (None, 2704)              0         \n",
      "                                                                 \n",
      " dense (Dense)               (None, 256)               692480    \n",
      "                                                                 \n",
      " dense_1 (Dense)             (None, 128)               32896     \n",
      "                                                                 \n",
      " dense_2 (Dense)             (None, 1)                 129       \n",
      "                                                                 \n",
      "=================================================================\n",
      "Total params: 725953 (2.77 MB)\n",
      "Trainable params: 725953 (2.77 MB)\n",
      "Non-trainable params: 0 (0.00 Byte)\n",
      "_________________________________________________________________\n"
     ]
    }
   ],
   "source": [
    "# Write a CNN model and train it\n",
    "model = models.Sequential()\n",
    "# Write the model layer code here\n",
    "model.add(Conv2D(16,(3,3),1,activation='relu',input_shape=(28,28,3)))\n",
    "model.add(MaxPooling2D())\n",
    "model.add(Flatten())\n",
    "model.add(Dense(256,activation='relu'))\n",
    "model.add(Dense(128,activation='relu'))\n",
    "model.add(Dense(1,activation='sigmoid'))\n",
    "model.summary()"
   ]
  },
  {
   "cell_type": "code",
   "execution_count": 7,
   "metadata": {},
   "outputs": [],
   "source": [
    "# Compile the model using following\n",
    "# create compile model with \"optimizer='adam', loss='binary_crossentropy', metrics=['accuracy']\"\"\n",
    "\n",
    "model.compile(optimizer='adam', loss='binary_crossentropy', metrics=['accuracy'])"
   ]
  },
  {
   "cell_type": "code",
   "execution_count": 8,
   "metadata": {},
   "outputs": [
    {
     "name": "stdout",
     "output_type": "stream",
     "text": [
      "Epoch 1/2\n",
      " 727/1000 [====================>.........] - ETA: 2:20 - loss: 0.0901 - accuracy: 0.9679"
     ]
    }
   ],
   "source": [
    "# Define the callback to save the best model based on validation accuracy\n",
    "checkpoint_callback = ModelCheckpoint(\n",
    "    filepath=m,\n",
    "    monitor='val_accuracy',\n",
    "    save_best_only=True,     # Save only the best model\n",
    "    mode='max',              # Set the mode to maximize the chosen metric\n",
    "    verbose=1\n",
    ")\n",
    "\n",
    "history = model.fit(train_generator, validation_data=validation_generator, callbacks=[\n",
    "                    checkpoint_callback], epochs=nb_epochs)"
   ]
  },
  {
   "cell_type": "markdown",
   "metadata": {},
   "source": [
    "## **Evaluate Model**"
   ]
  },
  {
   "cell_type": "code",
   "execution_count": null,
   "metadata": {},
   "outputs": [
    {
     "data": {
      "text/plain": [
       "<matplotlib.legend.Legend at 0x1529c12c430>"
      ]
     },
     "execution_count": 22,
     "metadata": {},
     "output_type": "execute_result"
    },
    {
     "data": {
      "image/png": "[encoded data removed]",
      "text/plain": [
       "<Figure size 640x480 with 1 Axes>"
      ]
     },
     "metadata": {},
     "output_type": "display_data"
    }
   ],
   "source": [
    "\n",
    "plt.plot(history.history['accuracy'], label='accuracy')\n",
    "plt.plot(history.history['val_accuracy'], label = 'val_accuracy')\n",
    "plt.xlabel('Epoch')\n",
    "plt.ylabel('Accuracy')\n",
    "plt.ylim([0, 1])\n",
    "plt.legend(loc='lower right')"
   ]
  },
  
  {
   "cell_type": "code",
   "execution_count": null,
   "metadata": {},
   "outputs": [
    {
     "name": "stdout",
     "output_type": "stream",
     "text": [
      "{'Negative': 0, 'Positive': 1}\n",
      "1/1 [==============================] - 0s 50ms/step\n",
      "1/1 [==============================] - 0s 96ms/step - loss: 0.1260 - accuracy: 0.9167\n",
      "Test loss:\n",
      "Test accuracy: [0.12599827349185944, 0.9166666865348816]\n"
     ]
    }
   ],
   "source": [
    "model = tf.keras.models.load_model(m)\n",
    "labels = (train_generator.class_indices)\n",
    "print(labels)\n",
    "path = './test/'\n",
    "k = []\n",
    "names = []\n",
    "for filename in os.listdir(path):\n",
    "    p = os.path.join(path, filename)\n",
    "    if 'jpg' in p:\n",
    "        # print(p)\n",
    "        c = cv2.imread(p)\n",
    "        c = cv2.resize(c, (img_size, img_size), interpolation=cv2.INTER_LINEAR)\n",
    "        k.append(c)\n",
    "        names.append(filename)\n",
    "k = np.array(k)\n",
    "\n",
    "class_names =  ['negative','positive'] #Fill here: Write the array of negative and positive\n",
    "predicted_labels = (model.predict(k) > 0.5).astype(\"int32\")\n",
    "predicted_labels = predicted_labels.flatten()\n",
    "predicted_labels = [class_names[i] for i in predicted_labels]\n",
    "\n",
    "test_arr = []\n",
    "for i in names:\n",
    "    if i[0] == 'n':\n",
    "        test_arr.append(0)\n",
    "    elif i[0] == 'p': # fix here\n",
    "        test_arr.append(1)\n",
    "test_arr = np.array(test_arr)\n",
    "\n",
    "if (len(test_arr) == len(k)):\n",
    "    score = model.evaluate(k, test_arr)\n",
    "    # print(labels) # print this\n",
    "    # print(names) # print this\n",
    "    print('Test loss:', ) # Fix here\n",
    "    print('Test accuracy:', score) # Fix here\n",
    "    \n",
    "else:\n",
    "    print(\"Something wrong with the prediction.\") # If you are getting this, you need to look into code."
   ]
  },
  {
   "cell_type": "code",
   "execution_count": null,
   "metadata": {},
   "outputs": [
    {
     "data": {
      "text/plain": [
       "array([0, 0, 0, 0, 0, 0, 1, 1, 1, 1, 1, 1])"
      ]
     },
     "execution_count": 27,
     "metadata": {},
     "output_type": "execute_result"
    }
   ],
   "source": [
    "test_arr"
   ]
  },
  {
   "cell_type": "code",
   "execution_count": null,
   "metadata": {},
   "outputs": [
    {
     "name": "stdout",
     "output_type": "stream",
     "text": [
      "Requirement already satisfied: joblib in c:\\users\\ees\\miniconda3\\envs\\ml_2023\\lib\\site-packages (1.3.2)\n"
     ]
    }
   ],
   "source": [
    "! pip install joblib"
   ]
  },
  {
   "cell_type": "code",
   "execution_count": null,
   "metadata": {},
   "outputs": [],
   "source": [
    "import joblib\n",
    "with open (\"best.h5\",\"wb\") as file:\n",
    "    joblib.dump(model,file)"
   ]
  }
 ],
 "metadata": {
  "kernelspec": {
   "display_name": "ml",
   "language": "python",
   "name": "python3"
  },
  "language_info": {
   "codemirror_mode": {
    "name": "ipython",
    "version": 3
   },
   "file_extension": ".py",
   "mimetype": "text/x-python",
   "name": "python",
   "nbconvert_exporter": "python",
   "pygments_lexer": "ipython3",
   "version": "3.8.18"
  },
  "orig_nbformat": 4
 },
 "nbformat": 4,
 "nbformat_minor": 2
}
